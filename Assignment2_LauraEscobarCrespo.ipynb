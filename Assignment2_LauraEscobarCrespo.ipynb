{
  "nbformat": 4,
  "nbformat_minor": 0,
  "metadata": {
    "colab": {
      "name": "Assignment2_LauraEscobarCrespo.ipynb",
      "provenance": [],
      "collapsed_sections": []
    },
    "kernelspec": {
      "name": "python3",
      "display_name": "Python 3"
    },
    "language_info": {
      "name": "python"
    }
  },
  "cells": [
    {
      "cell_type": "markdown",
      "metadata": {
        "id": "ne7SvM-dF2tO"
      },
      "source": [
        "Laura Escobar Crespo "
      ]
    },
    {
      "cell_type": "markdown",
      "metadata": {
        "id": "PYAAbDo-RO5w"
      },
      "source": [
        "# **Second graded practice**\n",
        "\n",
        "**You have to return a clear and detailed explanation on how did you solve the problem and the solution plus the codes you used and how to use them.**\n",
        "\n",
        "There are several models that try to reproduce the evoluton of an epidemic. The basic one is the SIR model developed by Kermack and McKendrick in 1927. You can get more information about the model from the following sources:\n",
        "\n",
        "https://en.wikipedia.org/wiki/Compartmental_models_in_epidemiology\n",
        "\n",
        "https://mysite.science.uottawa.ca/rsmith43/MAT4996/Epidemic.pdf\n",
        "\n",
        "or many others. In any case the SIR model looks like this: \n",
        "\n",
        "$$\\frac{dS}{dt} = -aS\\cdot I$$\n",
        "$$\\frac{dI}{dt} = aSI-bI$$\n",
        "$$\\frac{dR}{dt}= bI$$\n",
        "\n",
        "where $a$ is the infection rate and $b$ is the recovery rate.\n",
        "\n",
        "a) One person, highly contagious with a new influenza virus, enters a small community that has a population of 1000 (N) individuals that are susceptible to the infection. The virus epidemic spreads quickly and eventually infects all susceptible individuals. The rate constants for this epidemic are\n",
        "\n",
        "$$a= 0.005 (person)^{-1} (week)^{-1}$$\n",
        "\n",
        "$$ b = 1 (week)^{-1}$$\n",
        "\n",
        "Integrate the differential equations using an explicit RK method and determine the following:\n",
        "\n",
        "1. How many weeks does it take for this epidemic to reach its peak?\n",
        "\n",
        "2. What is the maximum number of persons sick at the peak of the epidemic?\n",
        "\n",
        "3. In how many weeks will the epidemic subside (when less than $5\\%$ of the susceptible population is still infected)?\n",
        "     \n",
        "b) The basic reproduction number is usually denoted by $\\mathcal{R}_0$. For this model, the basic reproduction number or contact number for the disease is\n",
        "                                                        \n",
        "$$\\mathcal{R}_0 = \\frac{aN}{b}$$\n",
        "\n",
        "1. What is the maximum value of $\\mathcal{R}_0$ in order to have a maximum of $10\\%$ of the population infected at any time?\n",
        "\n",
        "2. In how many weeks will the epidemic subside in this case?\n",
        "\n",
        "c) Imagine that you have a very large polulation, let us say $100000$ people. Also imagine that you don't know the infection and recovery rates exactly. \n",
        "\n",
        "Let assume the error is $20\\%$ on the infection rate only, and that the values you have calculated are:\n",
        "\n",
        "$$a=0.000025 (person)^{-1} (week)^{-1}$$\n",
        "\n",
        "$$ b = 0.12 (week)^{-1}$$\n",
        "\n",
        "What is the maximum error you can expect when you try to calculate the time when you reach the maximum number of infected?\n"
      ]
    },
    {
      "cell_type": "markdown",
      "metadata": {
        "id": "orrhki4SQNqE"
      },
      "source": [
        "######**EXPLANATION PART A**\n",
        "\n",
        "After importing all the required packages, we have to define the Runge-Kutta Method, which is the responsible to solve our differential equations.\n",
        "I have to point that the three given differential equations,\n",
        "\n",
        "![diff equations.PNG](data:image/png;base64,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)\n",
        "\n",
        "are described as three functions (called dS, dI and dR) that takes as attributes: time (t), S (susceptible people), I (infected), R (recovers), a (infection rate) and b (recovery rate).\n",
        "\n",
        "Back to the Runge-Kutta Method (in this case the one used is the four order), it is described also as a function (called rk4) that takes as attributes the three functions (they are in a list), a, b, h (size of the interval, or better known as time step). If we look to the expressions for the RK4 method:\n",
        "\n",
        "![esto 1.PNG](data:image/png;base64,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)\n",
        "\n",
        "![esto 2.PNG](data:image/png;base64,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)\n",
        "\n",
        "we see that it is an iterative method to approximate the differential equations.\n",
        "\n",
        "K1 is the slope at the beginning of the interval, K2 and K3 are the slope at the midpoint of the interval (the difference between them is that the first uses K1 and the second2) and K4 is the slope at the end of the interval. \n",
        "\n",
        "Knowing that y (in the code, we have three functions represented as d,e,g) is a function of time t, that changes through time. At time t0 the y is y0 (initial value). In all the K-equations, it is used the function y. \n",
        "\n",
        "The last equation is approximation of the function when the time is n+1, and the next value of y, but determined by the present value of y.\n",
        "\n",
        "Now, focusing on the code, I have applied the formulas. First, it is created four empty list for the K-equations where the values are added. For each K-equation, it is used a for loop, to make the computations for all the differential equations.\n",
        "\n",
        "The function rk4 returns the approximation for time n+1.\n",
        "\n",
        "The function Model takes as attributes the initial value of S, the initial value of I, the initial value of R, a start time, a time step, a and b.\n",
        "\n",
        "In the function we stablish the initial values in a list as well as a counter that starts at 0. Then, there is a while loop that ends when the time arrives to the stablish end time (we sum for each iteration the time step). Besides, we define temporary points that changes with the counter (the counter is added plus 1 for each iteration). These temporary points are the corresponding “functions” d, e, g mentioned for the rk4 function. We call the function rk4 to approximate the differential equations. The temporary points are renewed for each iteration, and also added to a list of values for S,I,R.\n",
        "\n",
        "The function returns three vectors that represents the variation of S, I and R through time.\n",
        "\n",
        "We have to take in care:\n",
        "\n",
        "*   The initial value of start time is 0 (as we are representing week 0).\n",
        "*   The initial value of S is 1000 (all the possible people that can be infected).\n",
        "*   The initial value of I is 1 (as there is 1 person infected at first).\n",
        "*   The initial value of R is 0 (as we do not have recovered people or inmune people yet).\n",
        "*   The time step is, for example, 0.01 (we need a value that converges).\n",
        "*   The value for a is 0.005.\n",
        "*   The value for b is 1."
      ]
    },
    {
      "cell_type": "code",
      "metadata": {
        "id": "7ErvT0F6KLRL"
      },
      "source": [
        "#PART A\n",
        "import numpy as np\n",
        "\n",
        "#Runge-Kutta Method Single Time Step\n",
        "def rk4(func,t,d,e,g,dt,a,b):    \n",
        "    k1,k2,k3,k4 = [],[],[],[] #create the rk4 equations as empty list\n",
        "    for f in func:\n",
        "        k1.append(dt*f(t,d,e,g,a,b))\n",
        "    for f in func:\n",
        "        k2.append(dt*f(t+dt/2,d+k1[0]/2,e+k1[1]/2,g+k1[2]/2,a,b))\n",
        "    for f in func:\n",
        "        k3.append( dt*f(t+dt/2,d+k2[0]/2,e+k2[1]/2,g+k2[2]/2,a,b))\n",
        "    for f in func:\n",
        "        k4.append( dt*f(t+dt/2,d+k3[0],e+k3[1],g+k3[1],a,b))\n",
        "    k1,k2,k3,k4 = np.array(k1),np.array(k2),np.array(k3),np.array(k4)\n",
        "    return (1/6)*(k1+2*k2+2*k3+k4)\n",
        "\n",
        "# Functions \n",
        "def dS(t,S,I,R,a,b):\n",
        "    return -a*S*I\n",
        "def dI(t,S,I,R,a,b):\n",
        "    return a*S*I-b*I\n",
        "def dR(t,S,I,R,a,b):\n",
        "    return b*I\n",
        "\n",
        "def Model(S0,I0,R0,start_time,time_step,a,b):\n",
        "    S,I,R = [S0],[I0],[R0] #Initial values\n",
        "    count = 0\n",
        "    t = start_time \n",
        "    dt = time_step \n",
        "    while t < 15:\n",
        "        t += dt\n",
        "        tempS,tempI,tempR = S[count],I[count],R[count] #Temporary start points\n",
        "        func = np.array([dS,dI,dR])\n",
        "        runge_kutta_4 = rk4(func,t,tempS,tempI,tempR,dt,a,b) # Rk4 Function\n",
        "        tempS += runge_kutta_4[0] #add through time for each one\n",
        "        tempI += runge_kutta_4[1]\n",
        "        tempR += runge_kutta_4[2]\n",
        "        count += 1\n",
        "        S.append(tempS) #add the calculated values in the list\n",
        "        I.append(tempI)\n",
        "        R.append(tempR)\n",
        "    return S,I,R\n",
        "#The initial value of start time is 0 (as we are representing week 0)\n",
        "#The initial value of S is 1000 (all the possible people that can be infected)\n",
        "#The initial value of I is 1 (as there is 1 person infected at first)\n",
        "#The initial value of R is 0 (as we do not have recovered people or inmune people yet)\n",
        "model = Model(1000, 1, 0, 0, 0.01,0.005,1)#Here there is the results for S,I,R as vectors"
      ],
      "execution_count": null,
      "outputs": []
    },
    {
      "cell_type": "markdown",
      "metadata": {
        "id": "pwsJcM1Zm8HR"
      },
      "source": [
        "####*Question 1 and 2 of part A*\n",
        "\n",
        "For the second question we are asked about the maximum number of infected people that is just calculated as the maximum of the vector I.\n",
        "For the first question, we need to calculate the number of week that takes to reach that maximum of infected people. I have took that maximum of I, and calculate the index (position on the list). We have to multiply the result of this by the time step (0.01) to get the result in weeks.\n",
        "\n",
        "*Solution*: The peak of the of the pandemic is reached at the second week (2.11 weeks) and the maximum of infected is 479 people (479.1038782157078 people).\n",
        "\n"
      ]
    },
    {
      "cell_type": "code",
      "metadata": {
        "colab": {
          "base_uri": "https://localhost:8080/"
        },
        "id": "2UpFrCwAuW2b",
        "outputId": "6d973774-af94-4f03-b841-febb9d453713"
      },
      "source": [
        "#1) and 2) of PART A\n",
        "S_s,I_s,R_s = model[0],model[1],model[2]\n",
        "maxI = max(I_s) #maximum number of infected people\n",
        "print(maxI)\n",
        "max_position = I_s.index(maxI) #weeks to reach the peak (multiply by the time step)\n",
        "print(max_position)"
      ],
      "execution_count": null,
      "outputs": [
        {
          "output_type": "stream",
          "text": [
            "479.1038782157078\n",
            "211\n"
          ],
          "name": "stdout"
        }
      ]
    },
    {
      "cell_type": "markdown",
      "metadata": {
        "id": "lgSqJVCvokUL"
      },
      "source": [
        "####*Question 3 of part A*\n",
        "\n",
        "For the third question we have to calculate the weeks than the epidemic takes to subside when the 5% of S is greater than I. I create a funtion that takes the vector for S and I, as well as the maximum number of infected people calculated before. I created a for loop of the lenght of the vectors. If the condition explained before is fulfilled as well as it is a week after the peak of the pandemic we take the week.\n",
        "\n",
        "*Solution*: It takes 10 weeks to subside (10.07 weeks)."
      ]
    },
    {
      "cell_type": "code",
      "metadata": {
        "colab": {
          "base_uri": "https://localhost:8080/"
        },
        "id": "ZeUPaI1Hoj_d",
        "outputId": "b066340d-7830-4752-c925-8957b4c5a733"
      },
      "source": [
        "#3) of PART A\n",
        "def subside(S,I,maxI):\n",
        "  for i in range(len(S)):\n",
        "    if I[i]<S[i]*0.05 and i>maxI:\n",
        "      return i\n",
        "print(subside(S_s,I_s,maxI))#we have to multiply by the time step to get the result in weeks"
      ],
      "execution_count": null,
      "outputs": [
        {
          "output_type": "stream",
          "text": [
            "1007\n"
          ],
          "name": "stdout"
        }
      ]
    },
    {
      "cell_type": "markdown",
      "metadata": {
        "id": "1GHbuRMdtBud"
      },
      "source": [
        "######**EXPLANATION PART B**\n",
        "\n",
        "####*Question 1 of part B*\n",
        "\n",
        "In this part we have to find an a and b for which maximum number of infected people is not greater than 100 (the 10% of the population).\n",
        "What I do in this exercise is to create two list with possible values for a and b. I also create two empty list to save those values that satisfy the condition.\n",
        "With a double for loop, I prove for each value of a and b with the Model funtion explained before. If an a and b satisfy the conditition, we keep these values.\n",
        "At the end, we have two list with values of a and b that satisfy the condition, but as we only need one for each, I take the first ones.\n",
        "The funtion reproduction_number calculates the R0.\n",
        "\n",
        "*Solution*: R0 = 1.69 (1.6949152542372883)"
      ]
    },
    {
      "cell_type": "code",
      "metadata": {
        "id": "rjm9_G_56HzF",
        "colab": {
          "base_uri": "https://localhost:8080/"
        },
        "outputId": "15ee4b6a-ea2c-432c-a234-9a91b6ce19b3"
      },
      "source": [
        "#PART B\n",
        "#1)\n",
        "#We have to find an a and b for which its maximum I is NOT greater than 100\n",
        "A = np.arange(0.001,0.005,0.001) #we create a list for a and b of number to try\n",
        "B = np.arange(0.001,1,0.001)\n",
        "saveA,saveB = [],[] #create an empty list for the optimal values\n",
        "A = A.tolist() #to transform into a list\n",
        "B = B.tolist()\n",
        "for i in A:\n",
        "  for j in B:\n",
        "    m = Model(1000,1,0,0,0.01,i,j)\n",
        "    I_max = max(m[1])\n",
        "    if I_max<100:\n",
        "      saveA.append(i) #save the optimal values\n",
        "      saveB.append(j)\n",
        "#As we only need one a and b, I take, for example, the first in the list of all the posible options\n",
        "a_new = saveA[0]\n",
        "b_new = saveB[0]\n",
        "\n",
        "def reproduction_number(a,b,N):\n",
        "  return (a*N)/b\n",
        "\n",
        "print(reproduction_number(a_new,b_new,1000)) #R0"
      ],
      "execution_count": null,
      "outputs": [
        {
          "output_type": "stream",
          "text": [
            "1.6949152542372883\n"
          ],
          "name": "stdout"
        }
      ]
    },
    {
      "cell_type": "markdown",
      "metadata": {
        "id": "C8Jnp2t1yild"
      },
      "source": [
        "####*Question 2 of part B*\n",
        "With the new a and b, we calculate S, I, R and the maximum of infected for these new values. We call the function subside explained before that calculates the weeks.\n",
        "\n",
        "*Solution*: 1 week"
      ]
    },
    {
      "cell_type": "code",
      "metadata": {
        "colab": {
          "base_uri": "https://localhost:8080/"
        },
        "id": "gZ-Q7cS34nMH",
        "outputId": "f6807609-2c43-47c8-d79b-8cca94188b76"
      },
      "source": [
        "#2) of PART B\n",
        "ex2 = Model(1000, 1, 0, 0, 0.01,a_new,b_new)\n",
        "max_ex2 = max(ex2[1])\n",
        "subside(ex2[0],ex2[1],max_ex2)#we have to multiply by the time step"
      ],
      "execution_count": null,
      "outputs": [
        {
          "output_type": "execute_result",
          "data": {
            "text/plain": [
              "100"
            ]
          },
          "metadata": {
            "tags": []
          },
          "execution_count": 33
        }
      ]
    },
    {
      "cell_type": "markdown",
      "metadata": {
        "id": "vPLxbO_kzoXT"
      },
      "source": [
        "######**EXPLANATION PART C**\n",
        "\n",
        "We have to add 20% of a to a, and also substract, obtaining two more a to compute the error of maximum number of infected.\n",
        "We compute S,I,R for each of the three a's, as well as its peak of maximum number of infected.\n",
        "Now we have to compare the original a with the other two.\n",
        "We see the different between the one which a is added its 20% and the the original. Then we do the same for the one substracted. For the first we get an error of -1.01 (take it in absolute value) weeks and for the second 1.5 weeks.\n",
        "\n",
        "*Solution*: The maximum error is 1.5 weeks.\n",
        " "
      ]
    },
    {
      "cell_type": "code",
      "metadata": {
        "id": "VRq5-87h6IWi",
        "colab": {
          "base_uri": "https://localhost:8080/"
        },
        "outputId": "ff37257d-a807-492e-8c9c-cd6164573e43"
      },
      "source": [
        "#PART C\n",
        "\"\"\"\n",
        "The 20% of a is 5x10^-6.\n",
        "We obtain two new values for a.\n",
        "If : a + 5x10^-6 = 3x10^-5\n",
        "If : a + 5x10^-6 = 2x10^-5\n",
        "\"\"\"\n",
        "#Calcultion of the model for each variation of a\n",
        "m_new = Model(100000, 1, 0, 0, 0.01,0.000025,0.12)\n",
        "m_plus = Model(100000, 1, 0, 0, 0.01,0.00003,0.12)\n",
        "m_neg = Model(100000, 1, 0, 0, 0.01,0.00002,0.12)\n",
        "I_new = max(m_new[1])\n",
        "I_plus = max(m_plus[1])\n",
        "I_neg = max(m_neg[1])\n",
        "Pos_new = m_new[1].index(I_new)#to get the time in weeks we have to multiply them by the time step\n",
        "Pos_plus = m_plus[1].index(I_plus)\n",
        "Pos_neg = m_neg[1].index(I_neg)\n",
        "\n",
        "error_plus = 0.01*(Pos_plus-Pos_new)\n",
        "error_neg = 0.01*(Pos_neg-Pos_new)\n",
        "print(error_plus,error_neg)#so the maximum error is 1.52"
      ],
      "execution_count": null,
      "outputs": [
        {
          "output_type": "stream",
          "text": [
            "-1.01 1.52\n"
          ],
          "name": "stdout"
        }
      ]
    },
    {
      "cell_type": "markdown",
      "metadata": {
        "id": "K-2LCdfWAHQD"
      },
      "source": [
        "######**Runge Kutta of second order**\n",
        "\n",
        "All the questions have been solved using Runge Kutta of order 4, but it can be done also with order 2. \n",
        "As order 4, order 2 solves differential equations. \n",
        "Taking into account the equations for the second order,\n",
        "\n",
        "![rk2.PNG](data:image/png;base64,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)\n",
        "\n",
        "we see that they are pretty similar to the previus ones, but in this case we only have two k-equations.\n",
        "\n",
        "Also, the equation that it is an approximation of the function when the time is n+1, and the next value of x, but determined by the present value of x, is a bit different but it follows the same idea.\n",
        "\n",
        "If we focus in the code, there is a function rk2 that takes the initial value of S, the initial value of I, the initial value of R, the time step, a and b.\n",
        "In the function, we stablish the initials values as well as we a list of values for the time. \n",
        "\n",
        "With a for loop, we itearate through time. On the contrary for order 4, here the k-equations for each differntial equation are \"separated\".\n",
        "\n",
        "At the end it returns S, I and R as vectors."
      ]
    },
    {
      "cell_type": "code",
      "metadata": {
        "id": "h7ultPeU4zZq"
      },
      "source": [
        "def rk2 (S0,I0,R0,dt,a,b):\n",
        "  S,R,I=[S0],[R0],[I0] #Initial values\n",
        "  t = np.arange(0,15,dt) #create a list with the \"time\"  \n",
        "  for i in range(t.size):\n",
        "    kS1 = dS(t,S[i],I[i],R[i],a,b) #calculate the k1 for each differential equation\n",
        "    kI1 = dI(t,S[i],I[i],R[i],a,b)\n",
        "    kR1 = dR(t,S[i],I[i],R[i],a,b)\n",
        "      \n",
        "    kS2 = dS(t,S[i]+(dt*kS1),I[i]+(dt*kI1),R[i]+(dt*kR1),a,b) #calculate the k2 for each differential equation\n",
        "    kI2 = dI(t,S[i]+ (dt*kS1),I[i]+(dt*kI1),R[i]+(dt*kR1),a,b)\n",
        "    kR2 = dR(t,S[i]+(dt*kS1),I[i]+(dt*kI1),R[i]+(dt*kR1),a,b)\n",
        "\n",
        "    S.append(S[i]+((dt/2)*(kS1+kS2))) #approximation of the function when the time is n+1\n",
        "    I.append(I[i]+((dt/2)*(kI1+kI2)))\n",
        "    R.append(R[i]+((dt/2)*(kR1+kR2)))\n",
        "\n",
        "  return S,I,R\n",
        "#I have took the same parametes\n",
        "runge_kutta2 = rk2(1000,1,0,0.01,0.005,1)#Here there is the results for S,I,R as vectors"
      ],
      "execution_count": null,
      "outputs": []
    },
    {
      "cell_type": "markdown",
      "metadata": {
        "id": "vKXjv4gLFIUh"
      },
      "source": [
        "As example, if we do the first two questions of part a, we see that we obtain almost the same results (only differs in decimals, that are insignificant for our purpose).\n",
        "\n",
        "So as a conclusion, it is correct to use any of the two as the results are practically the same."
      ]
    },
    {
      "cell_type": "code",
      "metadata": {
        "colab": {
          "base_uri": "https://localhost:8080/"
        },
        "id": "1Kp_NEKJ7TWo",
        "outputId": "34254e06-fa3a-47f8-e2f5-5b329224758e"
      },
      "source": [
        "#1) and 2) of PART A\n",
        "S_rk2,I_rk2,R_rk2 = runge_kutta2[0],runge_kutta2[1],runge_kutta2[2]\n",
        "maxI_rk2 = max(I_rk2) #maximum number of infected people\n",
        "print(maxI_rk2)\n",
        "max_position_rk2 = I_rk2.index(maxI_rk2) #weeks to reach the peak (multiply by the time step)\n",
        "print(max_position_rk2)"
      ],
      "execution_count": null,
      "outputs": [
        {
          "output_type": "stream",
          "text": [
            "479.0840582462864\n",
            "211\n"
          ],
          "name": "stdout"
        }
      ]
    }
  ]
}